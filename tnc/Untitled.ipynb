{
 "cells": [
  {
   "cell_type": "code",
   "execution_count": 12,
   "id": "6347430c",
   "metadata": {},
   "outputs": [
    {
     "name": "stdout",
     "output_type": "stream",
     "text": [
      "HiRID\n",
      "CausalCNNEncoder\n",
      "{'in_channels': 36, 'channels': 4, 'depth': 1, 'reduced_size': 2, 'encoding_size': 10, 'kernel_size': 2, 'window_size': 12, 'device': 'cpu'}\n",
      "{'window_size': 12, 'w': 0.05, 'batch_size': 30, 'lr': 5e-05, 'decay': 0.0005, 'mc_sample_size': 6, 'n_epochs': 150, 'data_type': 'HiRID', 'n_cross_val_encoder': 1, 'cont': True, 'ETA': 4, 'ADF': False, 'ACF': False, 'ACF_PLUS': True, 'ACF_nghd_Threshold': 0.6, 'ACF_out_nghd_Threshold': 0.1, 'device': 'cpu'}\n",
      "{'n_cross_val_classification': 3}\n",
      "{}\n",
      "0001\n",
      "0001_CausalCNNEncoder_HiRID\n"
     ]
    }
   ],
   "source": [
    "import torch\n",
    "checkpoint = torch.load('0001_CausalCNNEncoder_HiRID_checkpoint_0.tar', map_location=torch.device('cpu'))\n",
    "\n",
    "print(checkpoint['data_type'])\n",
    "print(checkpoint['encoder_type'])\n",
    "print(checkpoint['encoder_hyper_params'])\n",
    "print(checkpoint['learn_encoder_hyper_params'])\n",
    "print(checkpoint['classification_hyper_params'])\n",
    "\n",
    "print(checkpoint['pretrain_hyper_params'])\n",
    "print(checkpoint['unique_id'])\n",
    "print(checkpoint['unique_name'])\n",
    "\n",
    "\n",
    "checkpoint['learn_encoder_hyper_params']['ACF_PLUS'] = False\n",
    "checkpoint['learn_encoder_hyper_params']['ADF'] = True\n",
    "checkpoint['encoder_hyper_params']['in_channels'] = 36\n",
    "checkpoint['encoder_hyper_params']['encoding_size'] = 6\n",
    "torch.save(checkpoint, '0001_CausalCNNEncoder_HiRID_checkpoint_0_tnc.tar')"
   ]
  },
  {
   "cell_type": "code",
   "execution_count": 13,
   "id": "fc203c95",
   "metadata": {},
   "outputs": [
    {
     "name": "stdout",
     "output_type": "stream",
     "text": [
      "{'in_channels': 36, 'channels': 4, 'depth': 1, 'reduced_size': 2, 'encoding_size': 6, 'kernel_size': 2, 'window_size': 12, 'device': 'cpu'}\n",
      "{'window_size': 12, 'w': 0.05, 'batch_size': 30, 'lr': 5e-05, 'decay': 0.0005, 'mc_sample_size': 6, 'n_epochs': 150, 'data_type': 'HiRID', 'n_cross_val_encoder': 1, 'cont': True, 'ETA': 4, 'ADF': True, 'ACF': False, 'ACF_PLUS': False, 'ACF_nghd_Threshold': 0.6, 'ACF_out_nghd_Threshold': 0.1, 'device': 'cpu'}\n",
      "tensor([False,  True, False, False,  True,  True,  True,  True,  True,  True])\n"
     ]
    },
    {
     "ename": "KeyError",
     "evalue": "'pruned_encoding_size'",
     "output_type": "error",
     "traceback": [
      "\u001b[1;31m---------------------------------------------------------------------------\u001b[0m",
      "\u001b[1;31mKeyError\u001b[0m                                  Traceback (most recent call last)",
      "Cell \u001b[1;32mIn[13], line 5\u001b[0m\n\u001b[0;32m      3\u001b[0m \u001b[38;5;28mprint\u001b[39m(checkpoint[\u001b[38;5;124m'\u001b[39m\u001b[38;5;124mlearn_encoder_hyper_params\u001b[39m\u001b[38;5;124m'\u001b[39m])\n\u001b[0;32m      4\u001b[0m \u001b[38;5;28mprint\u001b[39m(checkpoint[\u001b[38;5;124m'\u001b[39m\u001b[38;5;124mpruning_mask\u001b[39m\u001b[38;5;124m'\u001b[39m])\n\u001b[1;32m----> 5\u001b[0m \u001b[38;5;28mprint\u001b[39m(\u001b[43mcheckpoint\u001b[49m\u001b[43m[\u001b[49m\u001b[38;5;124;43m'\u001b[39;49m\u001b[38;5;124;43mpruned_encoding_size\u001b[39;49m\u001b[38;5;124;43m'\u001b[39;49m\u001b[43m]\u001b[49m)\n",
      "\u001b[1;31mKeyError\u001b[0m: 'pruned_encoding_size'"
     ]
    }
   ],
   "source": [
    "checkpoint = torch.load('0001_CausalCNNEncoder_HiRID_checkpoint_0_tnc.tar', map_location=torch.device('cpu'))\n",
    "print(checkpoint['encoder_hyper_params'])\n",
    "print(checkpoint['learn_encoder_hyper_params'])\n",
    "print(checkpoint['pruning_mask'])\n",
    "print(checkpoint['pruned_encoding_size'])"
   ]
  },
  {
   "cell_type": "code",
   "execution_count": null,
   "id": "3904824f",
   "metadata": {},
   "outputs": [],
   "source": []
  }
 ],
 "metadata": {
  "kernelspec": {
   "display_name": "Python 3 (ipykernel)",
   "language": "python",
   "name": "python3"
  },
  "language_info": {
   "codemirror_mode": {
    "name": "ipython",
    "version": 3
   },
   "file_extension": ".py",
   "mimetype": "text/x-python",
   "name": "python",
   "nbconvert_exporter": "python",
   "pygments_lexer": "ipython3",
   "version": "3.10.9"
  }
 },
 "nbformat": 4,
 "nbformat_minor": 5
}
